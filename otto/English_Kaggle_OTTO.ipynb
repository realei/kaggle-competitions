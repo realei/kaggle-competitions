{
  "nbformat": 4,
  "nbformat_minor": 0,
  "metadata": {
    "colab": {
      "provenance": []
    },
    "kernelspec": {
      "name": "python3",
      "display_name": "Python 3"
    },
    "language_info": {
      "name": "python"
    }
  },
  "cells": [
    {
      "cell_type": "markdown",
      "source": [
        "[OTTO – Multi-Objective Recommender System](https://www.kaggle.com/competitions/otto-recommender-system/overview)"
      ],
      "metadata": {
        "id": "fta7ufTQ-yH7"
      }
    },
    {
      "cell_type": "markdown",
      "source": [
        "## Overview"
      ],
      "metadata": {
        "id": "YvrKJnAoCHq9"
      }
    },
    {
      "cell_type": "markdown",
      "source": [
        "### Terminology\n",
        "\n",
        "* a multi-objective recommender system\n",
        "* tailored recommendations\n",
        "* Current recommender systems consist of various models with different approaches, ranging from **simple matrix factorization** to a **transformer-type deep neural network**.\n",
        "\n",
        "\n",
        "\n",
        "\n"
      ],
      "metadata": {
        "id": "vXXkFQDQ-2J0"
      }
    },
    {
      "cell_type": "markdown",
      "source": [
        "### Vocabulary\n",
        "\n",
        "* Online shoppers **have their pick of millions of products** from large retailers.\n",
        "\n",
        "* However, no single model exists that can simultaneously optimize multiple objectives.\n",
        "\n",
        "* In this competition, you’ll build a single entry to predict click-through, add-to-cart, and conversion rates based on previous same-session events.\n",
        "\n",
        "*  Improving recommendations will **ensure navigating through seemingly endless options is more effortless and engaging for shoppers**."
      ],
      "metadata": {
        "id": "632BjJweD8NH"
      }
    },
    {
      "cell_type": "markdown",
      "source": [
        "## Questions about this competation::\n",
        "\n",
        "---\n",
        "\n",
        "\n",
        "* Q1: what is the distribution `elapsed time` for the sessions\n",
        "\n",
        "* Q2: what is the distribution `number of data` for the sessions\n",
        "\n",
        "* Q3: How many `article id (product code)` in the dataset\n",
        "\n",
        "* Q4: Why `parquet` version of data is better than `csv`? `pickle` datatype from [here](https://www.kaggle.com/code/radek1/howto-full-dataset-as-parquet-csv-files?scriptVersionId=109945227)"
      ],
      "metadata": {
        "id": "AjsHGaApm27d"
      }
    },
    {
      "cell_type": "markdown",
      "source": [
        "## 框架学习\n",
        "\n",
        "* [pandas使用chunksize分块处理大型csv文件](https://blog.csdn.net/weixin_43790560/article/details/88587123)\n",
        "\n",
        "* [Python 中处理大型数据工具（dask)](https://blog.csdn.net/qq_42374697/article/details/121010300)\n",
        "\n",
        "* [Spark工作原理及基础概念（超详细！）](https://blog.csdn.net/qq_42374697/article/details/121010300)\n",
        "\n",
        "* colab pro --- 25G RAM & pro+ --- 52G RAM\n",
        "\n",
        "* [安利一个Python大数据分析神器！Dask](https://zhuanlan.zhihu.com/p/302267112)\n",
        "\n",
        "* [Dask 官网](https://dask.pydata.org/en/latest/)"
      ],
      "metadata": {
        "id": "vhioLQd4Qzoz"
      }
    },
    {
      "cell_type": "markdown",
      "source": [
        "# EDA Notebook\n",
        "\n",
        "## [OTTO: Basic EDA](https://www.kaggle.com/code/aliphya/otto-basic-eda)\n",
        "\n",
        "* As part of this notebook we will load a small sample of the total data and try to create **insightful visualizations**.\n",
        "\n",
        "* In a single event the max number of actions performed are 495 which seems to be a little too **excessive** to me.\n",
        "\n",
        "* The median number of actions in an event are 19 which seems **plausible**."
      ],
      "metadata": {
        "id": "Y-OTCvNYyl27"
      }
    },
    {
      "cell_type": "markdown",
      "source": [
        "## [Time Series EDA - Users and Real Sessions](https://www.kaggle.com/code/cdeotte/time-series-eda-users-and-real-sessions) --- by [Chris Deotte](https://www.kaggle.com/cdeotte)\n",
        "\n",
        "### Key Messages:\n",
        "\n",
        "* In Kaggle's OttO competition the word \"session\" actually means \"user\".\n",
        "\n",
        "* Lines of training data: \"216,716,096 --> 0.2 billion (216.7 million)\" \n",
        "\n",
        "* Unique sessions(users): 1,289,977 ---> 1.3 million \n",
        "\n",
        "* Unique aids(products): 1,855,603 ---> 1.86 million \n",
        "\n",
        "### Observations:\n",
        "\n",
        "* Most users exhibit regular behavior. They click, cart and order at the same hours each day. \n",
        "\n",
        "* Also most users like to shop on the same days of the each week. \n",
        "\n",
        "* Most users are active during the waking hours of day but some users like to shop during the night while others are sleeping. \n",
        "\n",
        "* We also notice that users shop in clusters of activity. \n",
        "\n",
        "* **Our challenge in this competition** is that we must both predict the remainder of the last cluster (provided in test data) and predict new clusters (after last timestamp in test). \n",
        "\n",
        "* Furthermore all users in test data (not displayed in this notebook) have **less than 1 week data**, so **we must predict user behavior given little user history information (i.e. the RecSys \"cold start\" problem)**. Understanding users and their behavior will help us predict test users' future behavior!\n",
        "\n",
        "\n",
        "\n",
        "### **To Be Learnt**:\n",
        "\n",
        "* Time Series data processing -- py&da\n",
        "\n",
        "* read document about **parquet** anf **pickle**\n"
      ],
      "metadata": {
        "id": "8_DXDhMjnsUK"
      }
    },
    {
      "cell_type": "markdown",
      "source": [
        "# Solution Notebook\n",
        "\n",
        "## [Candidate ReRank Model - [LB 0.575]](https://www.kaggle.com/code/cdeotte/candidate-rerank-model-lb-0-575) --------- by [*CHRIS DEOTTE*](https://www.kaggle.com/cdeotte)\n",
        "\n",
        "**Note** in this competition, a \"session\" actually means a unique \"user\". So our task is to predict what each of the `1,671,803` test \"users\" (i.e. \"sessions\") will do in the future. For each test \"user\" (i.e. \"session\") we must predict what they will `click`, `cart`, and `order` during the remainder of the week long test period."
      ],
      "metadata": {
        "id": "LdRc9Xe5_Ehx"
      }
    },
    {
      "cell_type": "markdown",
      "source": [
        "### Key knowledge:\n",
        "\n",
        "1. Candidate ReRank Model\n",
        "\n",
        "  * [Recommendation Systems for Large Datasets](https://www.kaggle.com/competitions/otto-recommender-system/discussion/364721)\n",
        "\n",
        "2. ReRanker model (such as XGB)\n",
        "\n",
        "\n",
        "### Questions:\n",
        "\n",
        "* What is **final 20**?\n",
        "\n",
        "* test user ---> possible choices ~~ i.e. candidates"
      ],
      "metadata": {
        "id": "p57zejEkbT2C"
      }
    },
    {
      "cell_type": "markdown",
      "source": [
        "### About this competation:\n",
        "\n",
        "1. **Note** in this competition, a \"session\" actually means a unique \"user\". \n",
        "\n",
        "2. Nvida RAPIDA:\n",
        "  \n",
        "  * [RAPIDS，为数据科学和机器学习而生](https://blog.csdn.net/sunhf_csdn/article/details/83538591)\n",
        "\n",
        "  * Nvidia [RAPIDS: Open GPU Data Science](https://rapids.ai/)\n"
      ],
      "metadata": {
        "id": "JwoC2bxWcsR4"
      }
    },
    {
      "cell_type": "markdown",
      "source": [
        "### Kagglers who have shared ideas(Credits):\n",
        "\n",
        "* We use **co-visitation matrix idea** from *Vladimir* [here][1]. \n",
        "\n",
        "* We use **groupby sort logic** from *Sinan* in comment section [here][4]. \n",
        "\n",
        "* We use **duplicate prediction removal logic** from Radek [here][5]. \n",
        "\n",
        "* We use **multiple visit logic** from *Pietro* [here][2]. \n",
        "\n",
        "* We use **type weighting logic** from *Ingvaras* [here][3]. \n",
        "\n",
        "* We use **leaky test data** from CHRIS DEOTTE's previous notebook [here][4].\n",
        "\n",
        "* And some ideas may have originated from *Tawara* [here][6] and *KJ* [here][7]. \n",
        "\n",
        "* We use *Colum2131*'s parquets [here][8]. \n",
        "\n",
        "* Above(in the kaggle notebook) image is from *Ravi*'s discussion about candidate rerank models [here][9]\n",
        "\n",
        "[1]: https://www.kaggle.com/code/vslaykovsky/co-visitation-matrix\n",
        "[2]: https://www.kaggle.com/code/pietromaldini1/multiple-clicks-vs-latest-items\n",
        "[3]: https://www.kaggle.com/code/ingvarasgalinskas/item-type-vs-multiple-clicks-vs-latest-items\n",
        "[4]: https://www.kaggle.com/code/cdeotte/test-data-leak-lb-boost\n",
        "[5]: https://www.kaggle.com/code/radek1/co-visitation-matrix-simplified-imprvd-logic\n",
        "[6]: https://www.kaggle.com/code/ttahara/otto-mors-aid-frequency-baseline\n",
        "[7]: https://www.kaggle.com/code/whitelily/co-occurrence-baseline\n",
        "[8]: https://www.kaggle.com/datasets/columbia2131/otto-chunk-data-inparquet-format\n",
        "[9]: https://www.kaggle.com/competitions/otto-recommender-system/discussion/364721\n",
        "[10]: https://www.kaggle.com/cdeotte/compute-validation-score-cv-564\n",
        "[11]: https://www.kaggle.com/competitions/otto-recommender-system/discussion/364991"
      ],
      "metadata": {
        "id": "SF6SJZDT9kmq"
      }
    },
    {
      "cell_type": "markdown",
      "source": [
        "### Questions:\n",
        "\n",
        "* Q1: what is *handcrafted rules*?\n",
        "\n",
        "* Q2: `Co-visitation matrix`, `type weighting`, and `time weighting`?"
      ],
      "metadata": {
        "id": "4IpSGim2bU6h"
      }
    }
  ]
}