{
  "nbformat": 4,
  "nbformat_minor": 0,
  "metadata": {
    "colab": {
      "provenance": []
    },
    "kernelspec": {
      "name": "python3",
      "display_name": "Python 3"
    },
    "language_info": {
      "name": "python"
    }
  },
  "cells": [
    {
      "cell_type": "markdown",
      "source": [
        "### Kagglers who have shared ideas(Credits):\n",
        "\n",
        "* We use **co-visitation matrix idea** from *Vladimir* [here][1]. \n",
        "\n",
        "* We use **groupby sort logic** from *Sinan* in comment section [here][4]. \n",
        "\n",
        "* We use **duplicate prediction removal logic** from Radek [here][5]. \n",
        "\n",
        "* We use **multiple visit logic** from *Pietro* [here][2]. \n",
        "\n",
        "* We use **type weighting logic** from *Ingvaras* [here][3]. \n",
        "\n",
        "* We use **leaky test data** from CHRIS DEOTTE's previous notebook [here][4].\n",
        "\n",
        "* And some ideas may have originated from *Tawara* [here][6] and *KJ* [here][7]. \n",
        "\n",
        "* We use *Colum2131*'s parquets [here][8]. \n",
        "\n",
        "* Above(in the kaggle notebook) image is from *Ravi*'s discussion about candidate rerank models [here][9]\n",
        "\n",
        "[1]: https://www.kaggle.com/code/vslaykovsky/co-visitation-matrix\n",
        "[2]: https://www.kaggle.com/code/pietromaldini1/multiple-clicks-vs-latest-items\n",
        "[3]: https://www.kaggle.com/code/ingvarasgalinskas/item-type-vs-multiple-clicks-vs-latest-items\n",
        "[4]: https://www.kaggle.com/code/cdeotte/test-data-leak-lb-boost\n",
        "[5]: https://www.kaggle.com/code/radek1/co-visitation-matrix-simplified-imprvd-logic\n",
        "[6]: https://www.kaggle.com/code/ttahara/otto-mors-aid-frequency-baseline\n",
        "[7]: https://www.kaggle.com/code/whitelily/co-occurrence-baseline\n",
        "[8]: https://www.kaggle.com/datasets/columbia2131/otto-chunk-data-inparquet-format\n",
        "[9]: https://www.kaggle.com/competitions/otto-recommender-system/discussion/364721\n",
        "[10]: https://www.kaggle.com/cdeotte/compute-validation-score-cv-564\n",
        "[11]: https://www.kaggle.com/competitions/otto-recommender-system/discussion/364991"
      ],
      "metadata": {
        "id": "eyDuq7QximLf"
      }
    },
    {
      "cell_type": "markdown",
      "source": [
        "# OTTO： Co-Visitation Matrix (from *Vladimir*)"
      ],
      "metadata": {
        "id": "zJgkqid8i5L3"
      }
    }
  ]
}