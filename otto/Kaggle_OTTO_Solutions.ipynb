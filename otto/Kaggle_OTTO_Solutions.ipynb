{
  "nbformat": 4,
  "nbformat_minor": 0,
  "metadata": {
    "colab": {
      "provenance": []
    },
    "kernelspec": {
      "name": "python3",
      "display_name": "Python 3"
    },
    "language_info": {
      "name": "python"
    }
  },
  "cells": [
    {
      "cell_type": "markdown",
      "source": [
        "# Kagglers who have shared ideas(Credits):\n",
        "\n",
        "* We use **co-visitation matrix idea** from *Vladimir* [here][1]. \n",
        "\n",
        "* We use **groupby sort logic** from *Sinan* in comment section [here][4]. \n",
        "\n",
        "* We use **duplicate prediction removal logic** from Radek [here][5]. \n",
        "\n",
        "* We use **multiple visit logic** from *Pietro* [here][2]. \n",
        "\n",
        "* We use **type weighting logic** from *Ingvaras* [here][3]. \n",
        "\n",
        "* We use **leaky test data** from CHRIS DEOTTE's previous notebook [here][4].\n",
        "\n",
        "* And some ideas may have originated from *Tawara* [here][6] and *KJ* [here][7]. \n",
        "\n",
        "* We use *Colum2131*'s parquets [here][8]. \n",
        "\n",
        "* Above(in the kaggle notebook) image is from *Ravi*'s discussion about candidate rerank models [here][9]\n",
        "\n",
        "[1]: https://www.kaggle.com/code/vslaykovsky/co-visitation-matrix\n",
        "[2]: https://www.kaggle.com/code/pietromaldini1/multiple-clicks-vs-latest-items\n",
        "[3]: https://www.kaggle.com/code/ingvarasgalinskas/item-type-vs-multiple-clicks-vs-latest-items\n",
        "[4]: https://www.kaggle.com/code/cdeotte/test-data-leak-lb-boost\n",
        "[5]: https://www.kaggle.com/code/radek1/co-visitation-matrix-simplified-imprvd-logic\n",
        "[6]: https://www.kaggle.com/code/ttahara/otto-mors-aid-frequency-baseline\n",
        "[7]: https://www.kaggle.com/code/whitelily/co-occurrence-baseline\n",
        "[8]: https://www.kaggle.com/datasets/columbia2131/otto-chunk-data-inparquet-format\n",
        "[9]: https://www.kaggle.com/competitions/otto-recommender-system/discussion/364721\n",
        "[10]: https://www.kaggle.com/cdeotte/compute-validation-score-cv-564\n",
        "[11]: https://www.kaggle.com/competitions/otto-recommender-system/discussion/364991"
      ],
      "metadata": {
        "id": "eyDuq7QximLf"
      }
    },
    {
      "cell_type": "markdown",
      "source": [
        "# To Be Read Discussion:\n",
        "\n",
        "[📑 [Step-by-step guide] How I got to my current standing on the LB and how to improve going forward](https://www.kaggle.com/competitions/otto-recommender-system/discussion/368278)"
      ],
      "metadata": {
        "id": "zJgkqid8i5L3"
      }
    },
    {
      "cell_type": "markdown",
      "source": [],
      "metadata": {
        "id": "qr1t_p3t17-_"
      }
    },
    {
      "cell_type": "markdown",
      "source": [
        "# Must Read:\n",
        "\n",
        "## Discussion\n",
        "\n",
        "### 1. How to structure the solution to this competition\n",
        "\n",
        "\n",
        "* [How to thrive in this competition without going crazy -- 1 out of 2 important truths ❤️‍🔥](https://www.kaggle.com/competitions/otto-recommender-system/discussion/367503)\n",
        "\n",
        "* [How to thrive in this competition without going crazy (part 2 of 2) ❤️‍🔥](https://www.kaggle.com/competitions/otto-recommender-system/discussion/367754)\n",
        "\n",
        "\n",
        "  * English: \n",
        "    * This **tacit knowledge** that Chris shares is super valuable.\n",
        "\n",
        "  * What I learned from here: \n",
        "    1. Sites like YouTube with billions of items of content use a technique known as **candidates generation**.\n",
        "    2. Explains how re-ranking models are the industry standard \n",
        "\n",
        "  * Q1: What is \" ranker models\"? \n",
        "\n",
        "  * Q2: What is \"manual heuristic\"?\n",
        "\n",
        "### Beginner:\n",
        "\n",
        "* [💡 For my friends from Twitter and LinkedIn -- here is how to dive into this competition 🐳](https://www.kaggle.com/competitions/otto-recommender-system/discussion/368560)\n",
        "\n",
        "  1. EDA Sharing\n",
        "\n",
        "  2. Use the right data\n",
        "    * train/val/test split\n",
        "    * preprocessed parquet files\n",
        "\n",
        "* [📈 What do we know so far? ⚡Summary with links to relevant resources](https://www.kaggle.com/competitions/otto-recommender-system/discussion/364062) \n",
        "\n",
        "### 2. What OTTO is trying to predict\n",
        "\n",
        "* [Dumb Question: so what do we actually need to predict?](https://www.kaggle.com/competitions/otto-recommender-system/discussion/367154)\n",
        "\n",
        "  1. [Chris Deotte](https://www.kaggle.com/cdeotte) said here:\n",
        "\n",
        "  The test data for each user (note \"session\" means \"user\" in this comp), is most likely half of that user's activity in the week of Aug 29th 2022. We can read the code from Otto's GitHub and we see that the test data was created by taking the user's full data (from the week of Aug 29th 2022) and randomly splitting it using np.random.uniform. Therefore the expected value is that we have half of the user's data (during the week of Aug 29th 2022). **And our task is to predict the missing half of user data.**\n",
        "\n",
        "  2. Question about **data leaking problem** in this discussion?\n"
      ],
      "metadata": {
        "id": "mSOo1qo-6sxu"
      }
    },
    {
      "cell_type": "markdown",
      "source": [
        "# [Radek Osmulski](https://www.kaggle.com/radek1)'s sharing ---- done\n",
        "\n",
        "First let's follow [Radek Osmulski](https://www.kaggle.com/radek1)'s sharing at [💡 For my friends from Twitter and LinkedIn -- here is how to dive into this competition 🐳](https://www.kaggle.com/competitions/otto-recommender-system/discussion/368560). Which is reall a great article to start the comettation.\n",
        "\n"
      ],
      "metadata": {
        "id": "ggcto1ZbihG-"
      }
    },
    {
      "cell_type": "markdown",
      "source": [
        "## EDA:\n",
        "\n",
        "1. [📈 [EDA] A look at the data + training splits](https://www.kaggle.com/code/radek1/eda-a-look-at-the-data-training-splits?scriptVersionId=112610379)\n",
        "  * Observations:\n",
        "    1. The `train` dataset contains `216716096 datapoints` with `test` containing only `6928123`.\n",
        "\n",
        "    2. The size of the test set is `~3.1%` of the train set.\n",
        "\n",
        "    3. The items(aid) in the test set are all available in train\n",
        "\n",
        "    4. An we see that the `session_ids` are not overlapping between `train` and `test` so it will be impossible to map the users (even if we have seen them before in train). We have to assume each session is from a different user.\n",
        "\n",
        "  * Questions:\n",
        "    1. Does `train` and `test` from the same distribution?\n",
        "      * The problem is that the data doesn't come from the same period. In most geographies the beginning of September is the start of the school year!\n"
      ],
      "metadata": {
        "id": "jDViOeQA8Hbq"
      }
    },
    {
      "cell_type": "markdown",
      "source": [
        "## **Co-Visitation matrix**\n",
        "\n",
        "1. [💡 What is the co-visitation matrix, really?](https://www.kaggle.com/competitions/otto-recommender-system/discussion/365358)    ----    The fundential introduction to Co-Visitation Matrix\n",
        "\n",
        "2. [co-visitation matrix - simplified, imprvd logic 🔥](https://www.kaggle.com/code/radek1/co-visitation-matrix-simplified-imprvd-logic)\n",
        "\n",
        "3. [💡 [polars] Proof of concept: LGBM Ranker🧪🧪🧪](https://www.kaggle.com/code/radek1/polars-proof-of-concept-lgbm-ranker)"
      ],
      "metadata": {
        "id": "IluCa3ht8Irn"
      }
    },
    {
      "cell_type": "markdown",
      "source": [
        " # Solution Notebooks\n",
        " \n",
        " ## [Candidate ReRank Model - [LB 0.575]](https://www.kaggle.com/code/cdeotte/candidate-rerank-model-lb-0-575/notebook)\n",
        " \n",
        " Q1: What is *type weighting*?\n",
        " * [Item type vs multiple clicks vs latest items](https://www.kaggle.com/code/ingvarasgalinskas/item-type-vs-multiple-clicks-vs-latest-items) ~ *`type weighting logic from Ingvaras` *"
      ],
      "metadata": {
        "id": "kc8FBX0_q6ZB"
      }
    },
    {
      "cell_type": "markdown",
      "source": [
        "**TO Be Start:** [Item type vs multiple clicks vs latest items](https://www.kaggle.com/code/ingvarasgalinskas/item-type-vs-multiple-clicks-vs-latest-items) ~ *`type weighting logic from Ingvaras` *"
      ],
      "metadata": {
        "id": "oZM1W2AH4LRo"
      }
    }
  ]
}